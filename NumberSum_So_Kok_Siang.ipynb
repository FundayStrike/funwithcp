{
  "nbformat": 4,
  "nbformat_minor": 0,
  "metadata": {
    "colab": {
      "provenance": []
    },
    "kernelspec": {
      "name": "python3",
      "display_name": "Python 3"
    },
    "language_info": {
      "name": "python"
    }
  },
  "cells": [
    {
      "cell_type": "code",
      "execution_count": 13,
      "metadata": {
        "colab": {
          "base_uri": "https://localhost:8080/"
        },
        "id": "rsdm-0UewpqU",
        "outputId": "a9ce3b43-cb0f-490b-bd08-b740eb466e4b"
      },
      "outputs": [
        {
          "output_type": "stream",
          "name": "stdout",
          "text": [
            "['2', '8', '7', '3', '\\n', '2', '1', '1', '6', '\\n', '7', '5', '8', '6', '\\n', '6', '3', '7', '7', '\\n']\n"
          ]
        }
      ],
      "source": [
        "import random\n",
        "grid = []\n",
        "# display a 2D m by n grid of numbers. each number is between 1 and 9 inclusive.\n",
        "for i in range(4):\n",
        "  for j in range(4):\n",
        "    grid.append(str(random.randrange(1, 9)))\n",
        "  grid.append('\\n')\n",
        "\n",
        "print(grid)\n",
        "# when the player is ready (by pressing y), computer will replace the grid, 'hiding' the numbers with ascending alphabets A, B, C, ...\n",
        "\n",
        "# computer will generate a pseudo random up to 2-digit integer k\n",
        "# prompt the player to enter a sequence of i letters which associated numbers sum up to k. the sequence must be connected either horizontally, vertically or diagonally. for a start, you may assume i = 3.\n",
        "# if the sequence correctly sums up to k, player earns 1 point\n",
        "# if the sequence does not sum up to k, player loses 1 point\n",
        "# there can be more than 1 correct sequence that sums up to k. so prompt for input again.\n",
        "# game terminates when\n",
        "# player has entered all sequences that sum to k\n",
        "# it is impossible to form a sequence that sums to k\n",
        "# player quits by entering -1\n",
        "# when the game terminates, show all possible sequences that sum to k, or 0 if none."
      ]
    },
    {
      "cell_type": "code",
      "source": [
        "import random\n",
        "grid = []\n",
        "# display a 2D m by n grid of numbers. each number is between 1 and 9 inclusive.\n",
        "for i in range(4):\n",
        "  for j in range(4):\n",
        "    grid.append(str(random.randrange(1, 9)))\n",
        "  grid.append('\\n')\n",
        "\n",
        "print(''.join(grid))\n"
      ],
      "metadata": {
        "colab": {
          "base_uri": "https://localhost:8080/"
        },
        "id": "H7nd0EIh0YOz",
        "outputId": "7e249092-8294-49bc-e12c-851ddf7756f5"
      },
      "execution_count": 14,
      "outputs": [
        {
          "output_type": "stream",
          "name": "stdout",
          "text": [
            "2642\n",
            "2686\n",
            "8313\n",
            "1483\n",
            "\n"
          ]
        }
      ]
    }
  ]
}