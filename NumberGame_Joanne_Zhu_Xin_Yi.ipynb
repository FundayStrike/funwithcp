{
  "nbformat": 4,
  "nbformat_minor": 0,
  "metadata": {
    "colab": {
      "provenance": []
    },
    "kernelspec": {
      "name": "python3",
      "display_name": "Python 3"
    },
    "language_info": {
      "name": "python"
    }
  },
  "cells": [
    {
      "cell_type": "code",
      "execution_count": 17,
      "metadata": {
        "colab": {
          "base_uri": "https://localhost:8080/"
        },
        "id": "HZmln7lhsIjx",
        "outputId": "dacf7cc4-2fad-4164-b70c-90e4d14c65ed"
      },
      "outputs": [
        {
          "output_type": "stream",
          "name": "stdout",
          "text": [
            "[[2, 4, 6, 3], [7, 5, 5, 4], [9, 5, 1, 6], [9, 8, 2, 1]]\n"
          ]
        }
      ],
      "source": [
        "# Inspired by another The Devil's Plan game,\n",
        "# Number Sum (https://www.youtube.com/watch?v=SNuedzRh2O4), write Python code to generate a game for a player to form numbers summing up to a target integer k. A game flow is as follows:\n",
        "\n",
        "# display a 2D m by n grid of numbers. each number is between 1 and 9 inclusive.\n",
        "import random\n",
        "\n",
        "# Define the dimensions of the 2D array\n",
        "rows = 4\n",
        "cols = 4\n",
        "\n",
        "# Initialize an empty 2D array with zeros\n",
        "matrix = []\n",
        "\n",
        "# Use nested for loops to fill the array with values\n",
        "for i in range(rows):\n",
        "    row = []  # Initialize an empty row\n",
        "    for j in range(cols):\n",
        "        # Add values to the row (you can replace this with your own values or calculations)\n",
        "        row.append(random.randint(1,9))\n",
        "    matrix.append(row)  # Add the row to the 2D array\n",
        "\n",
        "print(matrix)\n",
        "# when the player is ready (by pressing y), computer will replace the grid, 'hiding' the numbers with ascending alphabets A, B, C, ...\n",
        "# computer will generate a pseudo random up to 2-digit integer k\n",
        "# prompt the player to enter a sequence of i letters which associated numbers sum up to k. the sequence must be connected either horizontally, vertically or diagonally. for a start, you may assume i = 3.\n",
        "# if the sequence correctly sums up to k, player earns 1 point\n",
        "# if the sequence does not sum up to k, player loses 1 point\n",
        "# there can be more than 1 correct sequence that sums up to k. so prompt for input again.\n",
        "# game terminates when\n",
        "# player has entered all sequences that sum to k\n",
        "# it is impossible to form a sequence that sums to k\n",
        "# player quits by entering -1\n",
        "# when the game terminates, show all possible sequences that sum to k, or 0 if none."
      ]
    },
    {
      "cell_type": "code",
      "source": [
        "# Define the dimensions of the 2D array\n",
        "rows = 3\n",
        "cols = 4\n",
        "\n",
        "# Initialize an empty 2D array with zeros\n",
        "matrix = []\n",
        "\n",
        "# Use nested for loops to fill the array with values\n",
        "for i in range(rows):\n",
        "    row = []  # Initialize an empty row\n",
        "    for j in range(cols):\n",
        "        # Add values to the row (you can replace this with your own values or calculations)\n",
        "        row.append(i * cols + j)\n",
        "    matrix.append(row)  # Add the row to the 2D array\n",
        "\n",
        "# Print the resulting 2D array\n",
        "for row in matrix:\n",
        "    print(row)\n"
      ],
      "metadata": {
        "colab": {
          "base_uri": "https://localhost:8080/"
        },
        "id": "3f6L4iypywNj",
        "outputId": "d89acf76-4b97-4c22-8afb-28df7bade495"
      },
      "execution_count": 15,
      "outputs": [
        {
          "output_type": "stream",
          "name": "stdout",
          "text": [
            "[0, 1, 2, 3]\n",
            "[4, 5, 6, 7]\n",
            "[8, 9, 10, 11]\n"
          ]
        }
      ]
    }
  ]
}