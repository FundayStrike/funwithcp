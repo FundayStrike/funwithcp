{
  "nbformat": 4,
  "nbformat_minor": 0,
  "metadata": {
    "colab": {
      "provenance": []
    },
    "kernelspec": {
      "name": "python3",
      "display_name": "Python 3"
    },
    "language_info": {
      "name": "python"
    }
  },
  "cells": [
    {
      "cell_type": "code",
      "execution_count": 22,
      "metadata": {
        "colab": {
          "base_uri": "https://localhost:8080/"
        },
        "id": "HZmln7lhsIjx",
        "outputId": "5eeb78b3-6035-41f5-a951-018a9833a012"
      },
      "outputs": [
        {
          "output_type": "stream",
          "name": "stdout",
          "text": [
            "[[7, 1, 3, 4], [8, 3, 3, 1], [6, 6, 8, 5], [7, 6, 5, 5]]\n",
            "Ready(y/n)? y\n",
            "[['A', 'B', 'C', 'D'], ['E', 'F', 'G', 'H'], ['I', 'J', 'K', 'L'], ['M', 'N', 'O', 'P']]\n"
          ]
        }
      ],
      "source": [
        "# Inspired by another The Devil's Plan game,\n",
        "# Number Sum (https://www.youtube.com/watch?v=SNuedzRh2O4), write Python code to generate a game for a player to form numbers summing up to a target integer k. A game flow is as follows:\n",
        "\n",
        "# display a 2D m by n grid of numbers. each number is between 1 and 9 inclusive.\n",
        "import random\n",
        "\n",
        "# Define the dimensions of the 2D array\n",
        "rows = 4\n",
        "cols = 4\n",
        "\n",
        "# Initialize an empty 2D array with zeros\n",
        "matrix = []\n",
        "\n",
        "# Use nested for loops to fill the array with values\n",
        "for i in range(rows):\n",
        "    row = []  # Initialize an empty row\n",
        "    for j in range(cols):\n",
        "        # Add values to the row (you can replace this with your own values or calculations)\n",
        "        row.append(random.randint(1,9))\n",
        "    matrix.append(row)  # Add the row to the 2D array\n",
        "\n",
        "print(matrix)\n",
        "# when the player is ready (by pressing y), computer will replace the grid, 'hiding' the numbers with ascending alphabets A, B, C, ...\n",
        "status = input(\"Ready(y/n)? \")\n",
        "\n",
        "if status == 'y':\n",
        "  aatrix = []\n",
        "  asc = 65\n",
        "  k = 0\n",
        "  # Use nested for loops to fill the array with values\n",
        "  for i in range(rows):\n",
        "    row = []  # Initialize an empty row\n",
        "    for j in range(cols):\n",
        "        # Add values to the row (you can replace this with your own values or calculations)\n",
        "      row.append(chr(65 + k))\n",
        "      k += 1\n",
        "    aatrix.append(row)  # Add the row to the 2D array\n",
        "\n",
        "print(aatrix)\n",
        "# computer will generate a pseudo random up to 2-digit integer k\n",
        "k =random.randint(10,27)\n",
        "# prompt the player to enter a sequence of i letters which associated numbers sum up to k. the sequence must be connected either horizontally, vertically or diagonally. for a start, you may assume i = 3.\n",
        "seq = input(\"Enter 3 letters: \")\n",
        "# if the sequence correctly sums up to k, player earns 1 point\n",
        "# if the sequence does not sum up to k, player loses 1 point\n",
        "# there can be more than 1 correct sequence that sums up to k. so prompt for input again.\n",
        "# game terminates when\n",
        "# player has entered all sequences that sum to k\n",
        "# it is impossible to form a sequence that sums to k\n",
        "# player quits by entering -1\n",
        "# when the game terminates, show all possible sequences that sum to k, or 0 if none."
      ]
    },
    {
      "cell_type": "code",
      "source": [
        "A = [1,2,3]\n",
        "B = A\n",
        "\n",
        "print(B)\n",
        "B[0] = 5\n",
        "print(B)\n",
        "print(A)"
      ],
      "metadata": {
        "colab": {
          "base_uri": "https://localhost:8080/"
        },
        "id": "Su1VKfOl4Vcc",
        "outputId": "8705d6e5-6608-4c8b-b217-33b5efac66a8"
      },
      "execution_count": 20,
      "outputs": [
        {
          "output_type": "stream",
          "name": "stdout",
          "text": [
            "[1, 2, 3]\n",
            "[5, 2, 3]\n",
            "[5, 2, 3]\n"
          ]
        }
      ]
    },
    {
      "cell_type": "code",
      "source": [
        "import copy\n",
        "\n",
        "A = [1,2,3]\n",
        "B = copy.deepcopy(A)\n",
        "\n",
        "print(B)\n",
        "B[0] = 5\n",
        "print(B)\n",
        "print(A)"
      ],
      "metadata": {
        "colab": {
          "base_uri": "https://localhost:8080/"
        },
        "id": "eQMHT-ql4_p-",
        "outputId": "7f227087-f756-40f7-dc93-53444d1adb2b"
      },
      "execution_count": 21,
      "outputs": [
        {
          "output_type": "stream",
          "name": "stdout",
          "text": [
            "[1, 2, 3]\n",
            "[5, 2, 3]\n",
            "[1, 2, 3]\n"
          ]
        }
      ]
    },
    {
      "cell_type": "code",
      "source": [
        "# Define the dimensions of the 2D array\n",
        "rows = 3\n",
        "cols = 4\n",
        "\n",
        "# Initialize an empty 2D array with zeros\n",
        "matrix = []\n",
        "\n",
        "# Use nested for loops to fill the array with values\n",
        "for i in range(rows):\n",
        "    row = []  # Initialize an empty row\n",
        "    for j in range(cols):\n",
        "        # Add values to the row (you can replace this with your own values or calculations)\n",
        "        row.append(i * cols + j)\n",
        "    matrix.append(row)  # Add the row to the 2D array\n",
        "\n",
        "# Print the resulting 2D array\n",
        "for row in matrix:\n",
        "    print(row)\n"
      ],
      "metadata": {
        "colab": {
          "base_uri": "https://localhost:8080/"
        },
        "id": "3f6L4iypywNj",
        "outputId": "d89acf76-4b97-4c22-8afb-28df7bade495"
      },
      "execution_count": 15,
      "outputs": [
        {
          "output_type": "stream",
          "name": "stdout",
          "text": [
            "[0, 1, 2, 3]\n",
            "[4, 5, 6, 7]\n",
            "[8, 9, 10, 11]\n"
          ]
        }
      ]
    }
  ]
}