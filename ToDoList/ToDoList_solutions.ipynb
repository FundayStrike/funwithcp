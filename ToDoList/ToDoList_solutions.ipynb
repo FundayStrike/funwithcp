{
 "cells": [
  {
   "cell_type": "markdown",
   "metadata": {},
   "source": [
    "You are assigned a task to create a to-do list for students using a Heap data structure. Your to-do list allows students to input two arguments: the homework and due date. A heap data structure (https://en.wikipedia.org/wiki/Heap_(data_structure)) has two methods, push() and pop(), where push() represents adding a value, along with its priority, into the heap and pop() represents extracting and removing the value with the largest/smallest priority from the heap.\n",
    "\n",
    "While Heaps are typically represented as an array, a linked list version of Heap can be created, with O(n) push and O(1) pop operation. Create a linked list, <code>Heap</code>, which operates like a Heap data structure, such that the Heap function is able to push homework and due date to the heap and extract the homework with the earliest due date.\n",
    "\n",
    "Assume that the input date must be a string in \"YYYY-MM-DD\" format, so that string comparsions can be made to compare dates.\n",
    "\n",
    "The <code>Node</code> class will contain three properties:<br>\n",
    "- <code>date</code>: a string in the format \"YYYY-MM-DD\" representing the due date<br>\n",
    "- <code>homework</code>: a string containing the homework details<br>\n",
    "- <code>next</code>: a reference to the next earliest node in the heap.<br>\n",
    "\n",
    "The <code>Heap</code> class will contain one property:<br>\n",
    "- <code>head</code>: the node which is the head of the heap.\n",
    "\n",
    "The <code>Heap</code> class will contain two methods:<br>\n",
    "- <code>push(date, homework)</code>: push a homework and its due date into the heap<br>\n",
    "- <code>pop()</code>: pops and returns the earliest homework from the heap<br>\n",
    "- <code>display()</code>: prints out the contents (due date and homework) of the heap starting from the earliest.<br>\n",
    "\n",
    "Ensure that data validation is added for the <code>pop()</code> function.\n",
    "\n",
    "Sample Input:<br>",
    "<code>",
    "heap = Heap()<br>",
    "heap.push('2023-10-31', 'Complete Maths HW')<br>",
    "heap.push('2023-10-30', 'Revise for upcoming exams')<br>",
    "heap.push('2023-11-03', 'Read up on Data Structures and Algorithms')<br>",
    "heap.pop()<br>",
    "heap.display()",
    "</code>",
    "\n",
    "Sample Output:<br>",
    "<code>",
    "2023-10-31 Complete Maths HW<br>",
    "2023-11-03 Read up on Data Structures and Algorithms",
    "</code>"
   ]
  },
  {
   "cell_type": "code",
   "execution_count": 1,
   "metadata": {},
   "outputs": [
    {
     "name": "stdout",
     "output_type": "stream",
     "text": [
      "2023-10-31 Complete Maths HW\n",
      "2023-11-03 Read up on Data Structures and Algorithms\n"
     ]
    }
   ],
   "source": [
    "class Node:\n",
    "    def __init__(self, date, homework):\n",
    "        self.date = date\n",
    "        self.homework = homework\n",
    "        self.next = None\n",
    "\n",
    "class Heap:\n",
    "    def __init__(self, head=None):\n",
    "        self.head = None\n",
    "    \n",
    "    def push(self, date, homework):\n",
    "        if self.head is None:\n",
    "            self.head = Node(date, homework) # condition where linked list is empty\n",
    "            return \n",
    "        if date < self.head.date: # condition where input date is earlier than the earliest date in the heap\n",
    "            temp = self.head\n",
    "            self.head = Node(date, homework)\n",
    "            self.head.next = temp\n",
    "            return \n",
    "        curr = self.head\n",
    "        while curr.next:\n",
    "            if date < curr.next.date:\n",
    "                temp = curr.next\n",
    "                curr.next = Node(date, homework) # insert date and homework in correct position in linked list\n",
    "                curr.next.next = temp\n",
    "                return \n",
    "            curr = curr.next\n",
    "        curr.next = Node(date, homework) # condition where input date is the latest from the other dates in the heap\n",
    "    \n",
    "    def pop(self):\n",
    "        if self.head is None:\n",
    "            print('Data validation failed. Cannot pop an empty heap.')\n",
    "            return \n",
    "        homework = self.head.homework\n",
    "        self.head = self.head.next\n",
    "        return homework\n",
    "    \n",
    "    def display(self):\n",
    "        curr = self.head\n",
    "        while curr:\n",
    "            print(curr.date, curr.homework)\n",
    "            curr = curr.next\n",
    "\n",
    "heap = Heap()\n",
    "heap.push('2023-10-31', 'Complete Maths HW')\n",
    "heap.push('2023-10-30', 'Revise for upcoming exams')\n",
    "heap.push('2023-11-03', 'Read up on Data Structures and Algorithms')\n",
    "heap.pop()\n",
    "heap.display()"
   ]
  }
 ],
 "metadata": {
  "kernelspec": {
   "display_name": "Python 3",
   "language": "python",
   "name": "python3"
  },
  "language_info": {
   "codemirror_mode": {
    "name": "ipython",
    "version": 3
   },
   "file_extension": ".py",
   "mimetype": "text/x-python",
   "name": "python",
   "nbconvert_exporter": "python",
   "pygments_lexer": "ipython3",
   "version": "3.11.2"
  }
 },
 "nbformat": 4,
 "nbformat_minor": 2
}
