{
 "cells": [
  {
   "cell_type": "markdown",
   "metadata": {},
   "source": [
    "You are assigned a task to create a to-do list for students using a Heap data structure. Your to-do list allows students to input two arguments: the homework and due date. A heap data structure (https://en.wikipedia.org/wiki/Heap_(data_structure)) has two methods, push() and pop(), where push() represents adding a value, along with its priority, into the heap and pop() represents extracting and removing the value with the largest/smallest priority from the heap.\n",
    "\n",
    "While Heaps are typically represented as an array, a linked list version of Heap can be created, with O(n) push and O(1) pop operation. Create a linked list, <code>Heap</code>, which operates like a Heap data structure, such that the Heap function is able to push homework and due date to the heap and extract the homework with the earliest due date.\n",
    "\n",
    "Assume that the input date must be a string in \"YYYY-MM-DD\" format, so that string comparsions can be made to compare dates.\n",
    "\n",
    "The <code>Node</code> class will contain three properties:<br>\n",
    "- <code>date</code>: a string in the format \"YYYY-MM-DD\" representing the due date<br>\n",
    "- <code>homework</code>: a string containing the homework details<br>\n",
    "- <code>next</code>: a reference to the next earliest node in the heap.<br>\n",
    "\n",
    "The <code>Heap</code> class will contain one property:<br>\n",
    "- <code>head</code>: the node which is the head of the heap.\n",
    "\n",
    "The <code>Heap</code> class will contain two methods:<br>\n",
    "- <code>push(date, homework)</code>: push a homework and its due date into the heap<br>\n",
    "- <code>pop()</code>: pops and returns the earliest homework from the heap<br>\n",
    "- <code>display()</code>: prints out the contents (due date and homework) of the heap starting from the earliest.<br>\n",
    "\n",
    "Ensure that data validation is added for the <code>pop()</code> function.\n",
    "\n",
    "Sample Input:<br>",
    "<code>\n",
    "heap = Heap()<br>",
    "heap.push('2023-10-31', 'Complete Maths HW')<br>",
    "heap.push('2023-10-30', 'Revise for upcoming exams')<br>",
    "heap.push('2023-11-03', 'Read up on Data Structures and Algorithms')<br>",
    "heap.pop()<br>",
    "heap.display()",
    "</code>\n",
    "\n",
    "Sample Output:<br>",
    "<code>\n",
    "2023-10-31 Complete Maths HW<br>",
    "2023-11-03 Read up on Data Structures and Algorithms",
    "</code>"
   ]
  },
  {
   "cell_type": "code",
   "execution_count": null,
   "metadata": {},
   "outputs": [],
   "source": []
  }
 ],
 "metadata": {
  "language_info": {
   "name": "python"
  }
 },
 "nbformat": 4,
 "nbformat_minor": 2
}
